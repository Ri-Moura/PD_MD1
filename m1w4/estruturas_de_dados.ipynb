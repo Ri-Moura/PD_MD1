{
 "cells": [
  {
   "attachments": {},
   "cell_type": "markdown",
   "metadata": {},
   "source": [
    "## Listas"
   ]
  },
  {
   "attachments": {},
   "cell_type": "markdown",
   "metadata": {},
   "source": [
    "### 1.1 Criação de listas\n"
   ]
  },
  {
   "cell_type": "code",
   "execution_count": 1,
   "metadata": {},
   "outputs": [
    {
     "data": {
      "text/plain": [
       "['Ricardo', 1, 3.14, [1, 2, 3], {'nome': 'Ricardo'}]"
      ]
     },
     "execution_count": 1,
     "metadata": {},
     "output_type": "execute_result"
    }
   ],
   "source": [
    "lista1 = [1, 2, 3, 4]\n",
    "lista2 = list(range(1, 5))\n",
    "\n",
    "lista3 = ['Ricardo', 1, 3.14, [1, 2, 3], {'nome': 'Ricardo'}]\n",
    "\n",
    "lista3"
   ]
  },
  {
   "cell_type": "code",
   "execution_count": 11,
   "metadata": {},
   "outputs": [
    {
     "data": {
      "text/plain": [
       "3.14"
      ]
     },
     "execution_count": 11,
     "metadata": {},
     "output_type": "execute_result"
    }
   ],
   "source": [
    "lista3[-3]"
   ]
  },
  {
   "attachments": {},
   "cell_type": "markdown",
   "metadata": {},
   "source": [
    "### 1.2. Acessando elementos"
   ]
  },
  {
   "cell_type": "code",
   "execution_count": null,
   "metadata": {},
   "outputs": [],
   "source": [
    "primeiro_elemento = lista1[0]\n",
    "ultimo_elemento = lista1[-1]"
   ]
  },
  {
   "attachments": {},
   "cell_type": "markdown",
   "metadata": {},
   "source": [
    "### 1.3. Manipulação de listas\n",
    "\n"
   ]
  },
  {
   "cell_type": "code",
   "execution_count": 18,
   "metadata": {},
   "outputs": [],
   "source": [
    "lista1\n",
    "#lista1.append(5) #Adicionar elementos (append, extend, insert)\n",
    "\n",
    "#lista1.remove(2) #Remover elementos (remove, pop, del)\n",
    "#lista1.sort() #Ordenar e inverter listas (sort, reverse)\n",
    "lista1.reverse() #Ordenar e inverter listas (sort, reverse)"
   ]
  },
  {
   "cell_type": "code",
   "execution_count": 19,
   "metadata": {},
   "outputs": [
    {
     "data": {
      "text/plain": [
       "[5, 4, 3, 1]"
      ]
     },
     "execution_count": 19,
     "metadata": {},
     "output_type": "execute_result"
    }
   ],
   "source": [
    "lista1"
   ]
  },
  {
   "cell_type": "code",
   "execution_count": 21,
   "metadata": {},
   "outputs": [
    {
     "name": "stdout",
     "output_type": "stream",
     "text": [
      "6\n",
      "7\n",
      "8\n",
      "9\n",
      "10\n",
      "11\n",
      "12\n",
      "13\n",
      "14\n"
     ]
    },
    {
     "data": {
      "text/plain": [
       "[6, 7, 8, 9, 10, 11, 12, 13, 14]"
      ]
     },
     "execution_count": 21,
     "metadata": {},
     "output_type": "execute_result"
    }
   ],
   "source": [
    "lista4 = []\n",
    "for i in range(15):\n",
    "    if i > 5:\n",
    "        print(i)\n",
    "        lista4.append(i)\n",
    "\n",
    "lista4"
   ]
  },
  {
   "cell_type": "code",
   "execution_count": 25,
   "metadata": {},
   "outputs": [],
   "source": [
    "lista6 = ['Ricardo','Anderson', 'João']\n",
    "lista6.sort()"
   ]
  },
  {
   "cell_type": "code",
   "execution_count": 23,
   "metadata": {},
   "outputs": [
    {
     "data": {
      "text/plain": [
       "['Anderson', 'João', 'Ricardo']"
      ]
     },
     "execution_count": 23,
     "metadata": {},
     "output_type": "execute_result"
    }
   ],
   "source": [
    "lista6"
   ]
  },
  {
   "attachments": {},
   "cell_type": "markdown",
   "metadata": {},
   "source": [
    "### 1.4. Passagem de parâmetros por valor e por referência"
   ]
  },
  {
   "cell_type": "code",
   "execution_count": 13,
   "metadata": {},
   "outputs": [
    {
     "name": "stdout",
     "output_type": "stream",
     "text": [
      "[1, 2, 3, 6]\n"
     ]
    }
   ],
   "source": [
    "def altera_lista(lista):\n",
    "    lista.append(6)\n",
    "\n",
    "lista = [1, 2, 3]\n",
    "altera_lista(lista)\n",
    "print(lista)  # Saída: [1, 2, 3, 6]"
   ]
  },
  {
   "cell_type": "markdown",
   "metadata": {},
   "source": [
    "## Tuplas"
   ]
  },
  {
   "attachments": {},
   "cell_type": "markdown",
   "metadata": {},
   "source": [
    "## 2.1. Criação de tuplas"
   ]
  },
  {
   "cell_type": "code",
   "execution_count": 31,
   "metadata": {},
   "outputs": [],
   "source": [
    "tupla1 = (1, 2, 3, 4)\n",
    "tupla2 = tuple(range(1, 5))"
   ]
  },
  {
   "attachments": {},
   "cell_type": "markdown",
   "metadata": {},
   "source": [
    "### 2.2. Acessando elementos"
   ]
  },
  {
   "cell_type": "code",
   "execution_count": 32,
   "metadata": {},
   "outputs": [],
   "source": [
    "primeiro_elemento = tupla1[0]\n",
    "ultimo_elemento = tupla1[-1]"
   ]
  },
  {
   "cell_type": "code",
   "execution_count": null,
   "metadata": {},
   "outputs": [],
   "source": [
    "for i in range(3):\n",
    "    if i < 2:\n",
    "        valor = input('Digite ID do aluno: ')\n",
    "        tupla = (valor, )\n",
    "        i+=1\n",
    "\n",
    "valor1 = input('Digite ID do aluno: ')\n",
    "valor2 = input('Digite ID do aluno: ')\n",
    "valor3 = input('Digite ID do aluno: ')\n",
    "\n",
    "tupla = (valor1, valor2, valor3)"
   ]
  },
  {
   "attachments": {},
   "cell_type": "markdown",
   "metadata": {},
   "source": [
    "### 2.3. Imutabilidade das tuplas\n"
   ]
  },
  {
   "cell_type": "code",
   "execution_count": 33,
   "metadata": {},
   "outputs": [
    {
     "ename": "TypeError",
     "evalue": "'tuple' object does not support item assignment",
     "output_type": "error",
     "traceback": [
      "\u001b[0;31m---------------------------------------------------------------------------\u001b[0m",
      "\u001b[0;31mTypeError\u001b[0m                                 Traceback (most recent call last)",
      "Cell \u001b[0;32mIn[33], line 4\u001b[0m\n\u001b[1;32m      1\u001b[0m \u001b[39m# Não é possível modificar elementos de uma tupla\u001b[39;00m\n\u001b[1;32m      2\u001b[0m \u001b[39m# A linha abaixo causará um erro\u001b[39;00m\n\u001b[0;32m----> 4\u001b[0m tupla1[\u001b[39m0\u001b[39;49m] \u001b[39m=\u001b[39m \u001b[39m4\u001b[39m\n",
      "\u001b[0;31mTypeError\u001b[0m: 'tuple' object does not support item assignment"
     ]
    }
   ],
   "source": [
    "# Não é possível modificar elementos de uma tupla\n",
    "# A linha abaixo causará um erro\n",
    "\n",
    "tupla1[0] = 4"
   ]
  },
  {
   "attachments": {},
   "cell_type": "markdown",
   "metadata": {},
   "source": [
    "## Dicionários"
   ]
  },
  {
   "attachments": {},
   "cell_type": "markdown",
   "metadata": {},
   "source": [
    "### 3.1. Criação de dicionários\n",
    "\n"
   ]
  },
  {
   "cell_type": "code",
   "execution_count": 32,
   "metadata": {},
   "outputs": [],
   "source": [
    "dicionario1 = {'Alunos': {'Professores':['Ricardo', 'Eder', 'Alisson']}, 'Idade': [25, 22, 20], 'Endereco': ['Rua...', 'Rua...', 'Rua...']}\n",
    "dicionario2 = dict(um=1, dois=2, três=3)"
   ]
  },
  {
   "cell_type": "code",
   "execution_count": null,
   "metadata": {},
   "outputs": [],
   "source": [
    "dict_exemplo = {'exemplo': 'dicionario', 'criando_dict': {'outro_dict': ['aninhado']}}"
   ]
  },
  {
   "cell_type": "code",
   "execution_count": null,
   "metadata": {},
   "outputs": [],
   "source": [
    "{\"dict\": 1}"
   ]
  },
  {
   "cell_type": "code",
   "execution_count": 34,
   "metadata": {},
   "outputs": [
    {
     "data": {
      "text/plain": [
       "'Ricardo'"
      ]
     },
     "execution_count": 34,
     "metadata": {},
     "output_type": "execute_result"
    }
   ],
   "source": [
    "dicionario1['Alunos']['Professores'][0]"
   ]
  },
  {
   "attachments": {},
   "cell_type": "markdown",
   "metadata": {},
   "source": [
    "## 4.2. Acessando elementos\n",
    "\n"
   ]
  },
  {
   "cell_type": "code",
   "execution_count": 39,
   "metadata": {},
   "outputs": [],
   "source": [
    "# Adicionando elementos ao dicionário\n",
    "dicionario1['Alunos'].append('João')"
   ]
  },
  {
   "cell_type": "code",
   "execution_count": 37,
   "metadata": {},
   "outputs": [
    {
     "data": {
      "text/plain": [
       "dict_keys(['Professores'])"
      ]
     },
     "execution_count": 37,
     "metadata": {},
     "output_type": "execute_result"
    }
   ],
   "source": [
    "# Acessando Valores\n",
    "dicionario1.values()\n",
    "\n",
    "# Acessando Chaves\n",
    "dicionario1.keys()"
   ]
  },
  {
   "cell_type": "code",
   "execution_count": 41,
   "metadata": {},
   "outputs": [],
   "source": [
    "valor_quatro = dicionario1.get('Professores') #método get() para acessar valores com uma chave padrão caso a chave procurada não exista\n",
    "valor_quatro"
   ]
  },
  {
   "cell_type": "code",
   "execution_count": 44,
   "metadata": {},
   "outputs": [
    {
     "data": {
      "text/plain": [
       "{'Alunos': ['Ricardo', 'Eder', 'Alisson', 'João'],\n",
       " 'Idade': [25, 22, 20],\n",
       " 'Endereco': ['Rua...', 'Rua...', 'Rua...']}"
      ]
     },
     "execution_count": 44,
     "metadata": {},
     "output_type": "execute_result"
    }
   ],
   "source": [
    "dicionario1"
   ]
  },
  {
   "cell_type": "markdown",
   "metadata": {},
   "source": [
    "### 4.3. Manipulação de dicionários:\n"
   ]
  },
  {
   "cell_type": "code",
   "execution_count": 42,
   "metadata": {},
   "outputs": [
    {
     "name": "stdout",
     "output_type": "stream",
     "text": [
      "Alunos {'Professores': ['Ricardo', 'Eder', 'Alisson']}\n",
      "Idade [25, 22, 20]\n",
      "Endereco ['Rua...', 'Rua...', 'Rua...']\n",
      "Curso ['Python', 'Java', 'Golang']\n"
     ]
    }
   ],
   "source": [
    "dicionario1['Curso'] = ['Python', 'Java', 'Golang'] #Adicionar elementos (atribuição direta)\n",
    "\n",
    "#dicionario1.pop('um') #Remover elementos (pop, del)\n",
    "\n",
    "#Iterar pelos elementos (keys, values, items)\n",
    "for chave, valor in dicionario1.items():\n",
    "    print(chave, valor)\n"
   ]
  },
  {
   "cell_type": "code",
   "execution_count": 48,
   "metadata": {},
   "outputs": [
    {
     "data": {
      "text/plain": [
       "dict_items([('Alunos', ['Ricardo', 'Eder', 'Alisson', 'João']), ('Idade', [25, 22, 20]), ('Endereco', ['Rua...', 'Rua...', 'Rua...']), ('Curso', ['Python', 'Java', 'Golang'])])"
      ]
     },
     "execution_count": 48,
     "metadata": {},
     "output_type": "execute_result"
    }
   ],
   "source": [
    "dicionario1.items()"
   ]
  },
  {
   "cell_type": "markdown",
   "metadata": {},
   "source": [
    "## Diferenças entre os tipos de Dados Complexos"
   ]
  },
  {
   "attachments": {},
   "cell_type": "markdown",
   "metadata": {},
   "source": [
    "- Listas: sequências ordenadas, mutáveis e podem conter elementos duplicados.\n",
    "\n",
    "- Tuplas: sequências ordenadas, imutáveis e podem conter elementos duplicados.\n",
    "\n",
    "- Dicionários: coleções não ordenadas de pares chave-valor, mutáveis e chaves únicas."
   ]
  },
  {
   "attachments": {},
   "cell_type": "markdown",
   "metadata": {},
   "source": [
    "## Atividade \n",
    "Desenvolva um programa que simule a entrega de notas quando um cliente efetuar um saque em um caixa eletrônico.\n",
    "\n",
    "## Requisito Basicos:\n",
    "\n",
    "- Entregar o menor número de notas;\n",
    "\n",
    "- É possível sacar o valor solicitado com as notas disponíveis;\n",
    "\n",
    "- Saldo do cliente infinito;\n",
    "\n",
    "- Quantidade de notas infinito (pode-se colocar um valor finito de cédulas para aumentar a dificuldade do problema);\n",
    "\n",
    "- Notas disponíveis de R$ 100,00; R$ 50,00; R$ 20,00 e R$ 10,00"
   ]
  },
  {
   "cell_type": "code",
   "execution_count": 43,
   "metadata": {},
   "outputs": [
    {
     "name": "stdout",
     "output_type": "stream",
     "text": [
      "100\n",
      "50\n",
      "50\n",
      "0\n",
      "20\n",
      "10\n",
      "[100, 50]\n"
     ]
    }
   ],
   "source": [
    "def sacar_dinheiro(valor):\n",
    "    \"\"\"\n",
    "    Função para calcular o menor número de notas para um valor de saque específico.\n",
    "\n",
    "    Parâmetros:\n",
    "    valor (int): O valor que o usuário deseja sacar.\n",
    "\n",
    "    Retorna:\n",
    "    Uma lista de notas que serão entregues ao usuário ou uma mensagem de erro se o valor do saque for inválido.\n",
    "    \"\"\"\n",
    "    # Verifica se o valor é menor que 10 ou não é um múltiplo de 10\n",
    "    if valor < 10 or valor % 10 != 0:\n",
    "        return 'Valor inválido. Digite um valor que seja múltiplo de 10.'\n",
    "\n",
    "    # Lista das notas disponíveis\n",
    "    notas = [100, 50, 20, 10]\n",
    "\n",
    "    # Lista para guardar as notas que serão entregues ao usuário\n",
    "    resultado = []\n",
    "\n",
    "    # Percorre cada nota disponível começando pela de maior valor\n",
    "    for nota in notas:\n",
    "        # Enquanto o valor for maior ou igual à nota, subtrai a nota do valor\n",
    "        # e adiciona a nota à lista de resultado\n",
    "        print(nota)\n",
    "              #150     #100\n",
    "              #50      #50\n",
    "        while valor >= nota:\n",
    "            valor = valor - nota\n",
    "            #150 - 100 = 50\n",
    "            #50 - 50 = 0\n",
    "            print(valor)\n",
    "            resultado.append(nota)\n",
    "\n",
    "    # Retorna a lista de notas\n",
    "    return resultado\n",
    "\n",
    "# Solicita ao usuário que insira o valor que deseja sacar\n",
    "valor_saque = int(input(\"Digite o valor que deseja sacar: \"))\n",
    "\n",
    "# Chama a função sacar_dinheiro e imprime o resultado\n",
    "print(sacar_dinheiro(valor_saque))"
   ]
  },
  {
   "cell_type": "code",
   "execution_count": 59,
   "metadata": {},
   "outputs": [
    {
     "name": "stdout",
     "output_type": "stream",
     "text": [
      "Não há notas suficientes para realizar este saque.\n"
     ]
    }
   ],
   "source": [
    "def sacar_dinheiro(valor, disponibilidade_notas):\n",
    "    \"\"\"\n",
    "    Função para calcular o menor número de notas para um valor de saque específico.\n",
    "\n",
    "    Parâmetros:\n",
    "    valor (int): O valor que o usuário deseja sacar.\n",
    "    disponibilidade_notas (dict): Dicionário com a quantidade de notas disponíveis.\n",
    "\n",
    "    Retorna:\n",
    "    Uma lista de notas que serão entregues ao usuário ou uma mensagem de erro se o valor do saque for inválido.\n",
    "    \"\"\"\n",
    "    if valor < 10 or valor % 10 != 0:\n",
    "        return 'Valor inválido. Digite um valor que seja múltiplo de 10.'\n",
    "\n",
    "    notas = [100, 50, 20, 10]\n",
    "    resultado = []\n",
    "\n",
    "    for nota in notas:                          #1\n",
    "        while valor >= nota and disponibilidade_notas[nota] > 0:\n",
    "            valor -= nota\n",
    "            disponibilidade_notas[nota] -= 1\n",
    "            resultado.append(nota)\n",
    "\n",
    "    if valor != 0:  # Se após o loop ainda restar valor, significa que não há notas suficientes\n",
    "        return 'Não há notas suficientes para realizar este saque.'\n",
    "\n",
    "    return resultado\n",
    "\n",
    "# Representa a disponibilidade de notas no caixa eletrônico\n",
    "disponibilidade_notas = {100: 1, 50: 1, 20: 2, 10: 3}\n",
    "\n",
    "valor_saque = int(input(\"Digite o valor que deseja sacar: \"))\n",
    "print(sacar_dinheiro(valor_saque, disponibilidade_notas))"
   ]
  },
  {
   "cell_type": "code",
   "execution_count": null,
   "metadata": {},
   "outputs": [],
   "source": []
  }
 ],
 "metadata": {
  "kernelspec": {
   "display_name": "ultimaschool",
   "language": "python",
   "name": "python3"
  },
  "language_info": {
   "codemirror_mode": {
    "name": "ipython",
    "version": 3
   },
   "file_extension": ".py",
   "mimetype": "text/x-python",
   "name": "python",
   "nbconvert_exporter": "python",
   "pygments_lexer": "ipython3",
   "version": "3.10.9"
  },
  "orig_nbformat": 4
 },
 "nbformat": 4,
 "nbformat_minor": 2
}
