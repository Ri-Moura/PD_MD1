{
 "cells": [
  {
   "cell_type": "code",
   "execution_count": 5,
   "metadata": {},
   "outputs": [
    {
     "name": "stdout",
     "output_type": "stream",
     "text": [
      "30\n"
     ]
    }
   ],
   "source": [
    "def soma(a,b):\n",
    "    c = a+b\n",
    "    return c\n",
    "\n",
    "print(soma(10,20))\n"
   ]
  },
  {
   "cell_type": "code",
   "execution_count": 6,
   "metadata": {},
   "outputs": [
    {
     "name": "stdout",
     "output_type": "stream",
     "text": [
      "50\n"
     ]
    }
   ],
   "source": [
    "print(soma(20,30))"
   ]
  },
  {
   "cell_type": "code",
   "execution_count": 7,
   "metadata": {},
   "outputs": [
    {
     "name": "stdout",
     "output_type": "stream",
     "text": [
      "9\n"
     ]
    }
   ],
   "source": [
    "'''\n",
    "Crie um programa com uma função que necessite de três argumentos, e que forneça a soma desses três argumentos.\n",
    "'''\n",
    "\n",
    "def soma_argumentos(numero, numerob, numeroc):\n",
    "    return numero + numerob + numeroc\n",
    "\n",
    "print(soma_argumentos(1,5,3))\n"
   ]
  },
  {
   "cell_type": "code",
   "execution_count": 8,
   "metadata": {},
   "outputs": [
    {
     "name": "stdout",
     "output_type": "stream",
     "text": [
      "Valor gorjeta: 17.0\n",
      "Valor gorjeta: 287.0\n"
     ]
    }
   ],
   "source": [
    "'''\n",
    "Escreva uma função que, dado o valor da conta de \n",
    "um restaurante, calcule e exiba a gorjeta do garçom, \n",
    "considerando 10% do valor da conta.\n",
    "'''\n",
    "def gorjeta(valor_conta):\n",
    "    return print('Valor gorjeta:', 0.1*valor_conta)\n",
    "\n",
    "gorjeta(170.00)\n",
    "gorjeta(2870.00)"
   ]
  },
  {
   "cell_type": "code",
   "execution_count": 12,
   "metadata": {},
   "outputs": [
    {
     "name": "stdout",
     "output_type": "stream",
     "text": [
      "N\n"
     ]
    }
   ],
   "source": [
    "'''\n",
    "Faça um programa com uma função que necessite de um argumento. \n",
    "A função deve retornar o valor de caractere ‘P’, se seu argumento for positivo, e ‘N’, \n",
    "se seu argumento for zero ou negativo.\n",
    "'''\n",
    "\n",
    "\n",
    "def teste_posito_negativo(numero):\n",
    "   \n",
    "   if numero > 0:\n",
    "      print('P')\n",
    "      #return 'P'\n",
    "   else:\n",
    "      #print('N')\n",
    "      return 'N'\n",
    "   \n",
    "tipo = teste_posito_negativo(0)\n",
    "print(tipo)\n",
    "\n",
    "\n",
    "\n",
    "\n",
    "\n",
    "\n",
    "\n",
    "\n",
    "\n",
    "\n",
    "\n",
    "\n",
    "\n",
    "\n",
    "\n",
    "\n",
    "\n",
    "#def verifica_numero(numero):\n",
    "#    if numero > 0:\n",
    "#       return 'P'\n",
    "#    else:\n",
    "#       return 'N'\n",
    "#\n",
    "#numero = int(input())\n",
    "#print(verifica_numero(numero))"
   ]
  },
  {
   "cell_type": "code",
   "execution_count": 22,
   "metadata": {},
   "outputs": [
    {
     "name": "stdout",
     "output_type": "stream",
     "text": [
      "3\n",
      "2\n",
      "1\n",
      "0\n",
      "[0, 1, 4]\n"
     ]
    }
   ],
   "source": [
    "'''\n",
    "Crie de forma recursiva uma função que printe do número recebido até o zero.\n",
    "'''\n",
    "\n",
    "#def recursividade(numero):\n",
    "#                    #3\n",
    "#  for n in range(numero):\n",
    "#            #3\n",
    "#    print(numero)\n",
    "#      #2   #3-1\n",
    "#      #1   #2-1\n",
    "#      #0   #1-1\n",
    "#    numero-=1\n",
    "#\n",
    "#recursividade(3)\n",
    "\n",
    "def recursividade(numero):\n",
    "  while numero >= 0:\n",
    "    print(numero)\n",
    "    numero-=1\n",
    "  \n",
    "\n",
    "recursividade(3)\n",
    "\n",
    "x = [x**2 for x in range(3)]\n",
    "print(x)\n",
    "\n",
    "\n",
    "\n",
    "\n",
    "\n",
    "\n",
    "\n",
    "\n",
    "\n",
    "\n",
    "\n",
    "#def contagem_decrescente(numero):\n",
    "#  print(numero)\n",
    "#  if numero > 0:\n",
    "#    contagem_decrescente(numero-1)\n",
    "#\n",
    "#numero = int(input())\n",
    "#contagem_decrescente(numero)\n"
   ]
  },
  {
   "cell_type": "code",
   "execution_count": 30,
   "metadata": {},
   "outputs": [
    {
     "name": "stdout",
     "output_type": "stream",
     "text": [
      "{'numero': 2, 'numero2': 5}\n",
      "Chave numero, Valor 2\n",
      "Par\n",
      "Chave numero2, Valor 5\n",
      "Impar\n",
      "{'numero': 2, 'numero2': 5, 'numero3': 7}\n",
      "Chave numero, Valor 2\n",
      "Par\n",
      "Chave numero2, Valor 5\n",
      "Impar\n",
      "Chave numero3, Valor 7\n",
      "Impar\n"
     ]
    }
   ],
   "source": [
    "'''\n",
    "Crie uma função que, ao receber um número inteiro, retorna se um número é par ou ímpar (utilizando **kwargs).\n",
    "'''\n",
    "\n",
    "def par_impar_kwargs(**kwargs):\n",
    "    print(kwargs)\n",
    "    for key, value in kwargs.items():\n",
    "        print(f'Chave {key}, Valor {value}')\n",
    "        if value % 2 == 0:\n",
    "            print(\"Par\")\n",
    "        else:\n",
    "            print(\"Impar\")\n",
    "\n",
    "par_impar_kwargs(numero=2, numero2=5)\n",
    "par_impar_kwargs(numero=2, numero2=5, numero3=7)"
   ]
  },
  {
   "cell_type": "code",
   "execution_count": 29,
   "metadata": {},
   "outputs": [
    {
     "name": "stdout",
     "output_type": "stream",
     "text": [
      "(10, 9, 5, 6, 3, 4)\n",
      "37\n",
      "(10, 9, 5)\n",
      "24\n"
     ]
    }
   ],
   "source": [
    "'''\n",
    "Crie uma função de somatório que some todos os números que a função receber (usando *args).\n",
    "'''\n",
    "\n",
    "def somatorio(*args):\n",
    "  soma = 0\n",
    "  print(args)\n",
    "  for numero in args:\n",
    "    soma += numero\n",
    "  return soma\n",
    "print(somatorio(10,9,5,6,3,4))\n",
    "print(somatorio(10,9,5))"
   ]
  },
  {
   "cell_type": "code",
   "execution_count": null,
   "metadata": {},
   "outputs": [],
   "source": [
    "'''\n",
    "Crie uma função que permita contar o número de vezes que aparece uma letra em uma string.\n",
    "'''\n",
    "\n",
    "def contagem_letra(palavra, letra_procurada):\n",
    "   contador = 0\n",
    "   for letra in palavra:\n",
    "      if letra == letra_procurada:\n",
    "         contador += 1\n",
    "   return contador\n",
    "\n",
    "print(contagem_letra(\"paralelepipedo\", \"p\"))\n"
   ]
  },
  {
   "cell_type": "code",
   "execution_count": 32,
   "metadata": {},
   "outputs": [
    {
     "data": {
      "text/plain": [
       "True"
      ]
     },
     "execution_count": 32,
     "metadata": {},
     "output_type": "execute_result"
    }
   ],
   "source": [
    "def prefixo(palavra1, palavra2):\n",
    "    if palavra1 in palavra2:\n",
    "        return True\n",
    "    else:\n",
    "        return False\n",
    "    \n",
    "prefixo('ab', 'ufabc')"
   ]
  },
  {
   "cell_type": "code",
   "execution_count": 34,
   "metadata": {},
   "outputs": [
    {
     "data": {
      "text/plain": [
       "True"
      ]
     },
     "execution_count": 34,
     "metadata": {},
     "output_type": "execute_result"
    }
   ],
   "source": [
    "def eh_prefixo(palavra1, palavra2):\n",
    "    if palavra2.startswith(palavra1):\n",
    "        return True\n",
    "    else:\n",
    "        return False\n",
    "\n",
    "eh_prefixo('uf', 'ufabc')"
   ]
  },
  {
   "cell_type": "code",
   "execution_count": 40,
   "metadata": {},
   "outputs": [
    {
     "name": "stdout",
     "output_type": "stream",
     "text": [
      "d f\n"
     ]
    },
    {
     "data": {
      "text/plain": [
       "False"
      ]
     },
     "execution_count": 40,
     "metadata": {},
     "output_type": "execute_result"
    }
   ],
   "source": [
    "def eh_prefixo(palavra1, palavra2):\n",
    "    if len(palavra1) > len(palavra2):\n",
    "        return False\n",
    "    \n",
    "    for i in range(len(palavra1)):\n",
    "        if palavra1[i] != palavra2[i]:\n",
    "            return False\n",
    "    \n",
    "    return True\n",
    "\n",
    "eh_prefixo('ud', 'ufabc')"
   ]
  },
  {
   "cell_type": "code",
   "execution_count": null,
   "metadata": {},
   "outputs": [],
   "source": [
    "'''\n",
    "Escreva uma função em Python chamada verifica_multiplos que aceite uma lista de números inteiros\n",
    "e um número inteiro n. A função deve percorrer a lista e imprimir cada número que é \n",
    "múltiplo de n. Se o número não for múltiplo de n, a função deve imprimir \"Não é múltiplo de n\".\n",
    "'''\n",
    "\n",
    "def verifica_multiplos(lista, n):\n",
    "    for num in lista:\n",
    "        if num % n == 0:\n",
    "            print(f'{num} é múltiplo de {n}')\n",
    "        else:\n",
    "            print(f'{num} não é múltiplo de {n}')\n",
    "\n",
    "# Testando a função\n",
    "verifica_multiplos([1, 2, 3, 4, 5, 6, 7, 8, 9, 10], 2)"
   ]
  }
 ],
 "metadata": {
  "kernelspec": {
   "display_name": "ultimaschool",
   "language": "python",
   "name": "python3"
  },
  "language_info": {
   "codemirror_mode": {
    "name": "ipython",
    "version": 3
   },
   "file_extension": ".py",
   "mimetype": "text/x-python",
   "name": "python",
   "nbconvert_exporter": "python",
   "pygments_lexer": "ipython3",
   "version": "3.8.12"
  },
  "orig_nbformat": 4
 },
 "nbformat": 4,
 "nbformat_minor": 2
}
