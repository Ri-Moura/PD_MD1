{
 "cells": [
  {
   "attachments": {},
   "cell_type": "markdown",
   "metadata": {},
   "source": [
    "Suponha que você tenha uma lista de preços de produtos em uma loja e deseja aplicar um desconto de 10% em todos os produtos.x"
   ]
  },
  {
   "cell_type": "code",
   "execution_count": null,
   "metadata": {},
   "outputs": [],
   "source": [
    "# Lista de preços\n",
    "precos = [100, 200, 300, 400, 500]\n",
    "\n",
    "# Lista para armazenar os preços com desconto\n",
    "precos_com_desconto = []\n",
    "\n",
    "# Loop for para aplicar o desconto\n",
    "for preco in precos:\n",
    "    precos_com_desconto.append(preco * 0.9)\n",
    "\n",
    "print(precos_com_desconto)\n"
   ]
  },
  {
   "attachments": {},
   "cell_type": "markdown",
   "metadata": {},
   "source": [
    "Suponha que você está programando um caixa eletrônico. Crie um loop que continue perguntando o valor do saque até que o usuário digite um valor válido (positivo e menor ou igual ao saldo da conta)."
   ]
  },
  {
   "cell_type": "code",
   "execution_count": null,
   "metadata": {},
   "outputs": [],
   "source": [
    "saldo = 1000  # Exemplo de saldo\n",
    "\n",
    "saque = float(input(\"Quanto você deseja sacar? \"))\n",
    "while saque <= 0 or saque > saldo:\n",
    "    print(\"Valor inválido. Tente novamente.\")\n",
    "    saque = float(input(\"Quanto você deseja sacar? \"))\n",
    "\n",
    "print(f\"Saque de {saque} realizado com sucesso.\")\n"
   ]
  },
  {
   "attachments": {},
   "cell_type": "markdown",
   "metadata": {},
   "source": [
    "Crie uma função que receba uma lista de números e retorne a média desses números."
   ]
  },
  {
   "cell_type": "code",
   "execution_count": null,
   "metadata": {},
   "outputs": [],
   "source": [
    "def media(numeros):\n",
    "    return sum(numeros) / len(numeros)\n",
    "\n",
    "print(media([1, 2, 3, 4, 5]))  # Saída esperada: 3.0\n"
   ]
  },
  {
   "attachments": {},
   "cell_type": "markdown",
   "metadata": {},
   "source": [
    "Crie uma classe Carro com atributos marca, modelo e ano. A classe deve ter um método exibir_informacoes que imprime essas informações em uma única linha."
   ]
  },
  {
   "cell_type": "code",
   "execution_count": null,
   "metadata": {},
   "outputs": [],
   "source": [
    "class Carro:\n",
    "    def __init__(self, marca, modelo, ano):\n",
    "        self.marca = marca\n",
    "        self.modelo = modelo\n",
    "        self.ano = ano\n",
    "\n",
    "    def exibir_informacoes(self):\n",
    "        print(f\"Marca: {self.marca}, Modelo: {self.modelo}, Ano: {self.ano}\")\n",
    "\n",
    "carro = Carro(\"Ford\", \"Focus\", 2020)\n",
    "carro.exibir_informacoes()  # Saída esperada: \"Marca: Ford, Modelo: Focus, Ano: 2020\"\n"
   ]
  },
  {
   "attachments": {},
   "cell_type": "markdown",
   "metadata": {},
   "source": [
    "Suponha que você tenha uma lista de tuplas, onde cada tupla contém o nome de um aluno e a sua nota em uma disciplina. Crie um dicionário onde as chaves são os nomes dos alunos e os valores são as notas."
   ]
  },
  {
   "cell_type": "code",
   "execution_count": null,
   "metadata": {},
   "outputs": [],
   "source": [
    "# Lista de tuplas\n",
    "alunos = [(\"João\", 8.5), (\"Maria\", 9.0), (\"Ana\", 7.5)]\n",
    "\n",
    "# Dicionário para armazenar os dados\n",
    "notas = {}\n",
    "\n",
    "# Loop para preencher o dicionário\n",
    "for nome, nota in alunos:\n",
    "    notas[nome] = nota\n",
    "\n",
    "print(notas)  # Saída esperada: {'João': 8.5, 'Maria': 9.0, 'Ana': 7.5}\n"
   ]
  },
  {
   "attachments": {},
   "cell_type": "markdown",
   "metadata": {},
   "source": [
    "Suponha que você tenha uma lista de strings que representam números inteiros. Escreva uma função que transforme essa lista de strings em uma lista de inteiros e, em seguida, retorne a soma dos números pares."
   ]
  },
  {
   "cell_type": "code",
   "execution_count": null,
   "metadata": {},
   "outputs": [],
   "source": [
    "def soma_pares(lista):\n",
    "    numeros = [int(i) for i in lista]  # Usamos uma compreensão de lista para converter as strings em inteiros.\n",
    "    soma = sum(num for num in numeros if num % 2 == 0)  # Outra compreensão de lista para somar apenas os números pares.\n",
    "    return soma\n",
    "\n",
    "print(soma_pares([\"1\", \"2\", \"3\", \"4\", \"5\"]))  # Saída esperada: 6\n"
   ]
  },
  {
   "cell_type": "code",
   "execution_count": null,
   "metadata": {},
   "outputs": [],
   "source": [
    "def soma_pares(lista):\n",
    "    # Etapa 1: Converter a lista de strings em uma lista de inteiros\n",
    "    numeros = list(map(int, lista))\n",
    "    \n",
    "    # Etapa 2: Filtrar apenas os números pares\n",
    "    numeros_pares = list(filter(lambda x: x % 2 == 0, numeros))\n",
    "\n",
    "    # Etapa 3: Retornar a soma dos números pares\n",
    "    return sum(numeros_pares)\n",
    "\n",
    "print(soma_pares([\"1\", \"2\", \"3\", \"4\", \"5\"]))  # Saída esperada: 6\n"
   ]
  },
  {
   "attachments": {},
   "cell_type": "markdown",
   "metadata": {},
   "source": [
    "Crie uma classe Agenda que contenha um dicionário. O dicionário deve conter pares de nomes e números de telefone. A classe deve ter métodos para adicionar um contato, remover um contato e procurar o número de um contato pelo nome."
   ]
  },
  {
   "cell_type": "code",
   "execution_count": null,
   "metadata": {},
   "outputs": [],
   "source": [
    "class Agenda:\n",
    "    def __init__(self):\n",
    "        self.contatos = {}\n",
    "\n",
    "    def adicionar_contato(self, nome, telefone):\n",
    "        self.contatos[nome] = telefone\n",
    "\n",
    "    def remover_contato(self, nome):\n",
    "        if nome in self.contatos:\n",
    "            del self.contatos[nome]\n",
    "        else:\n",
    "            print(\"Contato não encontrado.\")\n",
    "\n",
    "    def procurar_contato(self, nome):\n",
    "        return self.contatos.get(nome, \"Contato não encontrado.\")\n",
    "\n",
    "agenda = Agenda()\n",
    "agenda.adicionar_contato(\"João\", \"123456789\")\n",
    "print(agenda.procurar_contato(\"João\"))  # Saída esperada: \"123456789\"\n",
    "agenda.remover_contato(\"João\")\n",
    "print(agenda.procurar_contato(\"João\"))  # Saída esperada: \"Contato não encontrado.\""
   ]
  }
 ],
 "metadata": {
  "kernelspec": {
   "display_name": "ultimaschool",
   "language": "python",
   "name": "python3"
  },
  "language_info": {
   "name": "python",
   "version": "3.10.9"
  },
  "orig_nbformat": 4
 },
 "nbformat": 4,
 "nbformat_minor": 2
}
