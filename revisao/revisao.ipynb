{
 "cells": [
  {
   "attachments": {},
   "cell_type": "markdown",
   "metadata": {},
   "source": [
    "Suponha que você tenha uma lista de preços de produtos em uma loja e deseja aplicar um desconto de 10% em todos os produtos.x"
   ]
  },
  {
   "attachments": {},
   "cell_type": "markdown",
   "metadata": {},
   "source": [
    "Suponha que você está programando um caixa eletrônico. Crie um loop que continue perguntando o valor do saque até que o usuário digite um valor válido (positivo e menor ou igual ao saldo da conta)."
   ]
  },
  {
   "attachments": {},
   "cell_type": "markdown",
   "metadata": {},
   "source": [
    "Crie uma função que receba uma lista de números e retorne a média desses números."
   ]
  },
  {
   "attachments": {},
   "cell_type": "markdown",
   "metadata": {},
   "source": [
    "Crie uma classe Carro com atributos marca, modelo e ano. A classe deve ter um método exibir_informacoes que imprime essas informações em uma única linha."
   ]
  },
  {
   "attachments": {},
   "cell_type": "markdown",
   "metadata": {},
   "source": [
    "Suponha que você tenha uma lista de tuplas, onde cada tupla contém o nome de um aluno e a sua nota em uma disciplina. Crie um dicionário onde as chaves são os nomes dos alunos e os valores são as notas."
   ]
  },
  {
   "attachments": {},
   "cell_type": "markdown",
   "metadata": {},
   "source": [
    "Suponha que você tenha uma lista de strings que representam números inteiros. Escreva uma função que transforme essa lista de strings em uma lista de inteiros e, em seguida, retorne a soma dos números pares."
   ]
  },
  {
   "attachments": {},
   "cell_type": "markdown",
   "metadata": {},
   "source": [
    "Crie uma classe Agenda que contenha um dicionário. O dicionário deve conter pares de nomes e números de telefone. A classe deve ter métodos para adicionar um contato, remover um contato e procurar o número de um contato pelo nome."
   ]
  },
  {
   "cell_type": "markdown",
   "metadata": {},
   "source": []
  }
 ],
 "metadata": {
  "language_info": {
   "name": "python"
  },
  "orig_nbformat": 4
 },
 "nbformat": 4,
 "nbformat_minor": 2
}
