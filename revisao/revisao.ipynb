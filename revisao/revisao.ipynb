{
 "cells": [
  {
   "cell_type": "code",
   "execution_count": null,
   "metadata": {},
   "outputs": [],
   "source": [
    "Suponha que você tenha uma lista de preços de produtos em uma loja e deseja aplicar um desconto de 10% em todos os produtos."
   ]
  },
  {
   "attachments": {},
   "cell_type": "markdown",
   "metadata": {},
   "source": [
    "Suponha que você está programando um caixa eletrônico. Crie um loop que continue perguntando o valor do saque até que o usuário digite um valor válido (positivo e menor ou igual ao saldo da conta)."
   ]
  },
  {
   "attachments": {},
   "cell_type": "markdown",
   "metadata": {},
   "source": [
    "Crie uma função que receba uma lista de números e retorne a média desses números."
   ]
  },
  {
   "attachments": {},
   "cell_type": "markdown",
   "metadata": {},
   "source": [
    "Crie uma classe Carro com atributos marca, modelo e ano. A classe deve ter um método exibir_informacoes que imprime essas informações em uma única linha."
   ]
  },
  {
   "attachments": {},
   "cell_type": "markdown",
   "metadata": {},
   "source": [
    "Suponha que você tenha uma lista de tuplas, onde cada tupla contém o nome de um aluno e a sua nota em uma disciplina. Crie um dicionário onde as chaves são os nomes dos alunos e os valores são as notas."
   ]
  },
  {
   "cell_type": "markdown",
   "metadata": {},
   "source": []
  }
 ],
 "metadata": {
  "language_info": {
   "name": "python"
  },
  "orig_nbformat": 4
 },
 "nbformat": 4,
 "nbformat_minor": 2
}
